{
 "cells": [
  {
   "cell_type": "code",
   "execution_count": 22,
   "id": "5df90438",
   "metadata": {},
   "outputs": [],
   "source": [
    "from sklearn.feature_extraction.text import TfidfVectorizer\n",
    "from sklearn.metrics.pairwise import cosine_similarity\n",
    "import pandas as pd\n",
    "import spacy"
   ]
  },
  {
   "cell_type": "code",
   "execution_count": 23,
   "id": "2d6a3de4",
   "metadata": {},
   "outputs": [],
   "source": [
    "nlp = spacy.load(\"en_core_sci_scibert\")"
   ]
  },
  {
   "cell_type": "code",
   "execution_count": 24,
   "id": "fa4f2d7b",
   "metadata": {},
   "outputs": [],
   "source": [
    "def process_text(text): \n",
    "    doc = nlp(text)\n",
    "    return \" \".join([ent.text for ent in doc.ents])"
   ]
  },
  {
   "cell_type": "code",
   "execution_count": 25,
   "id": "2d9b54bd",
   "metadata": {},
   "outputs": [],
   "source": [
    "def calculate_similarity(main_text, other_text):\n",
    "    processed_main_text = process_text(main_text)\n",
    "    processed_other_text = process_text(other_text)\n",
    "    vectorizer = TfidfVectorizer()\n",
    "    tfidf_matrix = vectorizer.fit_transform([processed_main_text, processed_other_text])\n",
    "    cosine_similarities = cosine_similarity(tfidf_matrix[0:1], tfidf_matrix[1:]).flatten()\n",
    "    return cosine_similarities[0]"
   ]
  },
  {
   "cell_type": "code",
   "execution_count": 26,
   "id": "4e3c40c5",
   "metadata": {},
   "outputs": [],
   "source": [
    "main_text_2='Received 6 cycles of R-CHOP, which led to a complete response. However, a year later, she presented with diffuse lymphadenopathy, and a biopsy confirmed a relapse of DLBCL. She then received 6 cycles of pola-BR, followed by loncastuximab tesirine as third-line therapy after disease progression'\n",
    "main_text_4='She was hospitalized with diabetic ketoacidosis after experiencing symptoms like polydipsia, polyuria, and weight loss. Blood tests showed high blood glucose and hemoglobin A1c levels, and she tested positive for anti-glutamic acid decarboxylase antibodies, confirming type 1 diabetes'\n",
    "main_text_9='This rare case involved a patient with primary melanoma of the urethra, a condition that often has no symptoms in the early stages and is diagnosed through histopathology'"
   ]
  },
  {
   "cell_type": "code",
   "execution_count": 27,
   "id": "cc1cfaec",
   "metadata": {},
   "outputs": [],
   "source": [
    "content_1='In patients with limited disease, several randomized clinical trials have shown the equivalence of four cycles compared to six cycles of R-CHOP (rituximab, cyclophosphamide, doxorubicin, vincristine and prednisone) chemotherapy'\n",
    "content_2= 'It measures the amount of blood sugar attached to the oxygen-carrying protein in red blood cells (hemoglobin).An A1C level of 6.5% or higher on two separate tests means you have diabetes.'\n",
    "content_3=' Melanoma of the female urethra is an extremely uncommon pathology leading to paucity of literature and any definite recommendations'"
   ]
  },
  {
   "cell_type": "code",
   "execution_count": 28,
   "id": "e4e4bc9b",
   "metadata": {},
   "outputs": [
    {
     "data": {
      "text/plain": [
       "0.0"
      ]
     },
     "execution_count": 28,
     "metadata": {},
     "output_type": "execute_result"
    }
   ],
   "source": [
    "calculate_similarity(main_text_9, content_1)"
   ]
  },
  {
   "cell_type": "code",
   "execution_count": null,
   "id": "f9c5047b",
   "metadata": {},
   "outputs": [],
   "source": []
  }
 ],
 "metadata": {
  "kernelspec": {
   "display_name": "Python 3 (ipykernel)",
   "language": "python",
   "name": "python3"
  },
  "language_info": {
   "codemirror_mode": {
    "name": "ipython",
    "version": 3
   },
   "file_extension": ".py",
   "mimetype": "text/x-python",
   "name": "python",
   "nbconvert_exporter": "python",
   "pygments_lexer": "ipython3",
   "version": "3.11.5"
  }
 },
 "nbformat": 4,
 "nbformat_minor": 5
}
