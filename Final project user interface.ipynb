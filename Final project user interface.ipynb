{
 "cells": [
  {
   "cell_type": "code",
   "execution_count": 83,
   "id": "58ad034d",
   "metadata": {},
   "outputs": [],
   "source": [
    "# Import all packages \n",
    "import pandas as pd\n",
    "import numpy as np\n",
    "import joblib\n",
    "import matplotlib.pyplot as plt\n",
    "from text_similarity import process_text, calculate_similarity\n",
    "import tkinter as tk\n",
    "from tkinter import simpledialog\n",
    "from tensorflow.keras.models import load_model"
   ]
  },
  {
   "cell_type": "markdown",
   "id": "7bfc26ad",
   "metadata": {},
   "source": [
    "Load the ongoing clinical trial as dataframe"
   ]
  },
  {
   "cell_type": "code",
   "execution_count": 84,
   "id": "ae12e2c5",
   "metadata": {},
   "outputs": [],
   "source": [
    "# Allow the dataframe to show all columns\n",
    "pd.set_option('display.max_columns', None)"
   ]
  },
  {
   "cell_type": "code",
   "execution_count": 85,
   "id": "3e3d66bb",
   "metadata": {},
   "outputs": [],
   "source": [
    "# Import the ongoing clincial trial data as dataframe \n",
    "ongoing_trial=pd.read_csv('ongoing_trial_cleaned.csv', index_col=False)"
   ]
  },
  {
   "cell_type": "code",
   "execution_count": 86,
   "id": "efe00ed6",
   "metadata": {
    "scrolled": true
   },
   "outputs": [],
   "source": [
    "# Make a copy of dataframe so that the following operation will not affect the orignal data\n",
    "ongoing_trial_copy=ongoing_trial.copy()"
   ]
  },
  {
   "cell_type": "markdown",
   "id": "7255e82b",
   "metadata": {},
   "source": [
    "Collect patient's info that need for analysis"
   ]
  },
  {
   "cell_type": "code",
   "execution_count": 87,
   "id": "996f5ac5",
   "metadata": {},
   "outputs": [],
   "source": [
    "#Create a dialog box to allow user input their info\n",
    "ROOT_input = tk.Tk()\n",
    "ROOT_input.withdraw()\n",
    "ROOT_input.geometry('1920x1080')\n",
    "name= simpledialog.askstring(title=\"Personal Info\",prompt=\"What's your Name?:\")\n",
    "gender=simpledialog.askstring(title=\"Personal Info\",prompt=\"What's your gender? Male or Female:\")\n",
    "countries=simpledialog.askstring(title=\"Personal Info\",prompt=\"Which contries you are living in?:\")\n",
    "age= simpledialog.askstring(title=\"Personal Info\",prompt=\"Please enter your age:\")\n",
    "disease = simpledialog.askstring(title=\"Personal Info\",prompt=\"What type of disease you got:\")\n",
    "description= simpledialog.askstring(title=\"Personal Info\",prompt=\"Please descrip your disease:\")"
   ]
  },
  {
   "cell_type": "code",
   "execution_count": 88,
   "id": "dff2e3f5",
   "metadata": {},
   "outputs": [],
   "source": [
    "# Standardize the input format\n",
    "gender=gender.capitalize()\n",
    "countries=countries.title()\n",
    "age=float(age)\n",
    "disease= disease.lower()"
   ]
  },
  {
   "cell_type": "code",
   "execution_count": 89,
   "id": "2e88eb15",
   "metadata": {},
   "outputs": [],
   "source": [
    "# filter out the clincial trial that patient' age is eligible for\n",
    "ongoing_trial_filtered_age = ongoing_trial_copy[(age >= ongoing_trial_copy['minimum_age']) & (age < ongoing_trial_copy['maximum_age'])]"
   ]
  },
  {
   "cell_type": "code",
   "execution_count": 90,
   "id": "4278fbb0",
   "metadata": {},
   "outputs": [],
   "source": [
    "# filter out the clincial trial that patient' gender is eligible for\n",
    "ongoing_trial_filtered_age_gender = ongoing_trial_filtered_age[(gender == ongoing_trial_filtered_age['gender']) \n",
    "                                                                      | ( ongoing_trial_filtered_age['gender']==\"All\")]"
   ]
  },
  {
   "cell_type": "code",
   "execution_count": 91,
   "id": "b94591e7",
   "metadata": {},
   "outputs": [],
   "source": [
    "# filter out the clincial trial that targeting patient's disease\n",
    "ongoing_trial_filtered = ongoing_trial_filtered_age_gender[ongoing_trial_filtered_age_gender.apply(\n",
    "                                                                    lambda row: row.astype(str).str.contains(disease).any(), axis=1)]"
   ]
  },
  {
   "cell_type": "markdown",
   "id": "9b080aef",
   "metadata": {},
   "source": [
    "Use machine learning to predict the ongoing clinical trial's outcome"
   ]
  },
  {
   "cell_type": "code",
   "execution_count": 92,
   "id": "3e339c68",
   "metadata": {},
   "outputs": [],
   "source": [
    "# Make a copy of data so that the following operation will not ruin the orignial one\n",
    "ongoing_trial_filtered_ml=ongoing_trial_filtered.copy()"
   ]
  },
  {
   "cell_type": "code",
   "execution_count": 93,
   "id": "e955e38c",
   "metadata": {},
   "outputs": [
    {
     "name": "stdout",
     "output_type": "stream",
     "text": [
      "I cannot give you any recommandation, please consult you physician for more information\n"
     ]
    }
   ],
   "source": [
    "#Check whether there is any trial filter \n",
    "if len(ongoing_trial_filtered_ml)>0:\n",
    "    pass\n",
    "else:\n",
    "    print('I cannot give you any recommandation, please consult you physician for more information')\n",
    "    exit()"
   ]
  },
  {
   "cell_type": "code",
   "execution_count": 94,
   "id": "57e8b6d7",
   "metadata": {
    "scrolled": true
   },
   "outputs": [
    {
     "name": "stderr",
     "output_type": "stream",
     "text": [
      "WARNING:absl:Skipping variable loading for optimizer 'Adam', because it has 21 variables whereas the saved optimizer has 1 variables. \n"
     ]
    }
   ],
   "source": [
    "# Import the pre-trained neutral network model\n",
    "nn_model = load_model('best_model_nn.keras')"
   ]
  },
  {
   "cell_type": "code",
   "execution_count": 95,
   "id": "28c1b5f1",
   "metadata": {},
   "outputs": [],
   "source": [
    "# Split X and y set and drop unnecessary column\n",
    "columns_to_drop = ['overall_status', 'nct_id', 'description','detailed_description','official_title','city','state','countries_name','contact_name',\n",
    "                  'email','phone','phone_extension','official_title','facility_name']\n",
    "X = ongoing_trial_filtered_ml.drop(columns_to_drop, axis=1)  \n",
    "y = ongoing_trial_filtered_ml['overall_status'] "
   ]
  },
  {
   "cell_type": "code",
   "execution_count": null,
   "id": "6ba31eac",
   "metadata": {},
   "outputs": [],
   "source": [
    "# Import the encoder that used for training this model\n",
    "column_transformer = joblib.load('column_transformer.joblib')"
   ]
  },
  {
   "cell_type": "code",
   "execution_count": null,
   "id": "51e139b4",
   "metadata": {},
   "outputs": [],
   "source": [
    "# Apply encoder\n",
    "X = column_transformer.transform(X)"
   ]
  },
  {
   "cell_type": "code",
   "execution_count": null,
   "id": "67dde673",
   "metadata": {
    "scrolled": true
   },
   "outputs": [],
   "source": [
    "# Make prediction\n",
    "predictions = nn_model.predict(X)\n",
    "predicted_labels = np.argmax(predictions, axis=1)"
   ]
  },
  {
   "cell_type": "code",
   "execution_count": null,
   "id": "d115b439",
   "metadata": {
    "scrolled": true
   },
   "outputs": [],
   "source": [
    "# Add the prediction into a column\n",
    "ongoing_trial_filtered['predicted_outcome'] = predicted_labels"
   ]
  },
  {
   "cell_type": "markdown",
   "id": "238dfe4f",
   "metadata": {},
   "source": [
    "Use NLP model to find how close the clinical that fit for patient's disease description"
   ]
  },
  {
   "cell_type": "code",
   "execution_count": null,
   "id": "d48d33cd",
   "metadata": {},
   "outputs": [],
   "source": [
    "# Analysis the patient's disease description\n",
    "main_text=process_text(description)"
   ]
  },
  {
   "cell_type": "code",
   "execution_count": null,
   "id": "6d3e768a",
   "metadata": {},
   "outputs": [],
   "source": [
    "# Use pre-set function to calculate the cosine distance between patient description and clincial's description\n",
    "ongoing_trial_filtered.loc[:, 'similarities'] = ongoing_trial_filtered.apply(lambda row: calculate_similarity(row['description'], main_text), axis=1\n",
    ")"
   ]
  },
  {
   "cell_type": "markdown",
   "id": "bcf3fcd9",
   "metadata": {},
   "source": [
    "Final recommendation"
   ]
  },
  {
   "cell_type": "code",
   "execution_count": null,
   "id": "db9ec490",
   "metadata": {},
   "outputs": [],
   "source": [
    "# Copy the dataframe to avoid futher process influence the orignal data\n",
    "ongoing_trial_filtered_copy=ongoing_trial_filtered.copy()"
   ]
  },
  {
   "cell_type": "code",
   "execution_count": null,
   "id": "083796ec",
   "metadata": {
    "scrolled": true
   },
   "outputs": [],
   "source": [
    "# Delete all trials that marked as fail in prediction\n",
    "ongoing_trial_filtered_copy= ongoing_trial_filtered_copy[ongoing_trial_filtered_copy['predicted_outcome']==1]"
   ]
  },
  {
   "cell_type": "code",
   "execution_count": null,
   "id": "1e0b80c4",
   "metadata": {},
   "outputs": [],
   "source": [
    "# filter out the clincial trial that taking place in patient's country of residence\n",
    "ongoing_trial_filtered_copy_country = ongoing_trial_filtered_copy[ongoing_trial_filtered_copy\n",
    "                                                                   ['country'].str.contains(countries, case=False)]"
   ]
  },
  {
   "cell_type": "code",
   "execution_count": null,
   "id": "a52a4a16",
   "metadata": {},
   "outputs": [],
   "source": [
    "#Check whether there is any trial filter \n",
    "if len(ongoing_trial_filtered_copy_country)>0:\n",
    "    pass\n",
    "elif len(ongoing_trial_filtered_copy)>0:\n",
    "    pass\n",
    "else:\n",
    "    print('I cannot give you any recommandation, please consult you physician for more information')\n",
    "    exit()"
   ]
  },
  {
   "cell_type": "code",
   "execution_count": null,
   "id": "8ea59a54",
   "metadata": {},
   "outputs": [],
   "source": [
    "# Sort the list based on similar of content\n",
    "ongoing_trial_filtered_copy_country = ongoing_trial_filtered_copy_country.sort_values(by='similarities', ascending=False)\n",
    "ongoing_trial_filtered_copy = ongoing_trial_filtered_copy.sort_values(by='similarities', ascending=False)"
   ]
  },
  {
   "cell_type": "code",
   "execution_count": null,
   "id": "024840ea",
   "metadata": {
    "scrolled": true
   },
   "outputs": [],
   "source": [
    "ongoing_trial_filtered_copy_country"
   ]
  },
  {
   "cell_type": "code",
   "execution_count": null,
   "id": "06c5f6b2",
   "metadata": {},
   "outputs": [],
   "source": [
    "ongoing_trial_filtered_copy"
   ]
  },
  {
   "cell_type": "code",
   "execution_count": null,
   "id": "6b064dc3",
   "metadata": {},
   "outputs": [],
   "source": [
    "# Provide the recommadtion\n",
    "if len(ongoing_trial_filtered_copy_country)>0 and len (ongoing_trial_filtered_copy_country[ongoing_trial_filtered_copy_country['similarities']>=0.1])>0:\n",
    "    best_nctid = ongoing_trial_filtered_copy_country.iloc[0]['nct_id']\n",
    "    best_trial_title=ongoing_trial_filtered_copy_country.iloc[0]['official_title']\n",
    "    print(f'I suggest you would participate clincial trial \"{best_trial_title}\".You can lookup for more information on https://clinicaltrials.gov and search NCT ID: {best_nctid} for more information. You can find out the location and contact information on this website. But always consult you physician before you made any decision. I wish all the best to you')\n",
    "elif len(ongoing_trial_filtered_copy)>0 and len (ongoing_trial_filtered_copy[ongoing_trial_filtered_copy['similarities']>=0.1])>0:\n",
    "    best_nctid = ongoing_trial_filtered_copy.iloc[0]['nct_id']\n",
    "    best_trial_title=ongoing_trial_filtered_copy.iloc[0]['official_title']\n",
    "    print(f'I suggest you would participate clincial trial \"{best_trial_title}\".You can lookup for more information on https://clinicaltrials.gov and search NCT ID: {best_nctid} for more information. You can find out the location and contact information on this website. This clinical trial conduct outside your country. But always consult you physician before you made any decision. I wish all the best to you')\n",
    "else:\n",
    "    print('I cannot give you any recommandation, please consult you physician for more information')"
   ]
  },
  {
   "cell_type": "code",
   "execution_count": null,
   "id": "dac9cd2f",
   "metadata": {},
   "outputs": [],
   "source": []
  }
 ],
 "metadata": {
  "kernelspec": {
   "display_name": "Python 3 (ipykernel)",
   "language": "python",
   "name": "python3"
  },
  "language_info": {
   "codemirror_mode": {
    "name": "ipython",
    "version": 3
   },
   "file_extension": ".py",
   "mimetype": "text/x-python",
   "name": "python",
   "nbconvert_exporter": "python",
   "pygments_lexer": "ipython3",
   "version": "3.11.5"
  }
 },
 "nbformat": 4,
 "nbformat_minor": 5
}
