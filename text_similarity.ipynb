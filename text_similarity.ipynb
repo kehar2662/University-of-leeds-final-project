{
 "cells": [
  {
   "cell_type": "code",
   "execution_count": 3,
   "id": "5df90438",
   "metadata": {},
   "outputs": [
    {
     "name": "stdout",
     "output_type": "stream",
     "text": [
      "WARNING:tensorflow:From C:\\Users\\Buwei He\\AppData\\Roaming\\Python\\Python311\\site-packages\\keras\\src\\losses.py:2976: The name tf.losses.sparse_softmax_cross_entropy is deprecated. Please use tf.compat.v1.losses.sparse_softmax_cross_entropy instead.\n",
      "\n"
     ]
    }
   ],
   "source": [
    "from sklearn.feature_extraction.text import TfidfVectorizer\n",
    "from sklearn.metrics.pairwise import cosine_similarity\n",
    "import pandas as pd\n",
    "import spacy"
   ]
  },
  {
   "cell_type": "code",
   "execution_count": 4,
   "id": "2d6a3de4",
   "metadata": {},
   "outputs": [
    {
     "name": "stderr",
     "output_type": "stream",
     "text": [
      "C:\\Users\\Buwei He\\AppData\\Roaming\\Python\\Python311\\site-packages\\spacy\\language.py:2141: FutureWarning: Possible set union at position 6328\n",
      "  deserializers[\"tokenizer\"] = lambda p: self.tokenizer.from_disk(  # type: ignore[union-attr]\n",
      "C:\\Users\\Buwei He\\AppData\\Roaming\\Python\\Python311\\site-packages\\spacy_transformers\\layers\\hf_shim.py:137: UserWarning: Error loading saved torch state_dict with strict=True, likely due to differences between 'transformers' versions. Attempting to load with strict=False as a fallback...\n",
      "\n",
      "If you see errors or degraded performance, download a newer compatible model or retrain your custom model with the current 'transformers' and 'spacy-transformers' versions. For more details and available updates, run: python -m spacy validate\n",
      "  warnings.warn(warn_msg)\n"
     ]
    }
   ],
   "source": [
    "nlp = spacy.load(\"en_core_sci_scibert\")"
   ]
  },
  {
   "cell_type": "code",
   "execution_count": 5,
   "id": "fa4f2d7b",
   "metadata": {},
   "outputs": [],
   "source": [
    "def process_text(text): \n",
    "    doc = nlp(text)\n",
    "    return \" \".join([ent.text for ent in doc.ents])"
   ]
  },
  {
   "cell_type": "code",
   "execution_count": 19,
   "id": "2d9b54bd",
   "metadata": {},
   "outputs": [],
   "source": [
    "def calculate_similarity(main_text, other_text):\n",
    "    processed_main_text = process_text(main_text)\n",
    "    processed_other_text = process_text(other_text)\n",
    "    vectorizer = TfidfVectorizer()\n",
    "    tfidf_matrix = vectorizer.fit_transform([processed_main_text, processed_other_text])\n",
    "    cosine_similarities = cosine_similarity(tfidf_matrix[0:1], tfidf_matrix[1:]).flatten()\n",
    "    return cosine_similarities[0]"
   ]
  },
  {
   "cell_type": "code",
   "execution_count": 22,
   "id": "4e7d8da4",
   "metadata": {},
   "outputs": [],
   "source": [
    "main_text='measured by the objective response rate (ORR) according to the Lugano Classification of response in malignant lymphoma (Cheson, 2014) and as assessed by independent central review in each of the following B-cell non-Hodgkin lymphoma  '\n",
    "other_text='Primary objective is to assess the anti-tumor activity of single agent odronextamab as measured by the objective response rate (ORR) according to the Lugano Classification of response in malignant lymphoma (Cheson, 2014) and as assessed by independent central review in each of the following B-cell non-Hodgkin lymphoma (B-NHL) subgroups:'"
   ]
  },
  {
   "cell_type": "code",
   "execution_count": 23,
   "id": "e4e4bc9b",
   "metadata": {},
   "outputs": [
    {
     "data": {
      "text/plain": [
       "0.7007562934429966"
      ]
     },
     "execution_count": 23,
     "metadata": {},
     "output_type": "execute_result"
    }
   ],
   "source": [
    "calculate_similarity(main_text, other_text)"
   ]
  },
  {
   "cell_type": "code",
   "execution_count": null,
   "id": "f9c5047b",
   "metadata": {},
   "outputs": [],
   "source": []
  }
 ],
 "metadata": {
  "kernelspec": {
   "display_name": "Python 3 (ipykernel)",
   "language": "python",
   "name": "python3"
  },
  "language_info": {
   "codemirror_mode": {
    "name": "ipython",
    "version": 3
   },
   "file_extension": ".py",
   "mimetype": "text/x-python",
   "name": "python",
   "nbconvert_exporter": "python",
   "pygments_lexer": "ipython3",
   "version": "3.11.5"
  }
 },
 "nbformat": 4,
 "nbformat_minor": 5
}
